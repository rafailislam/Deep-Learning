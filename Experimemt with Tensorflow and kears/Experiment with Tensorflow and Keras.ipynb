{
 "cells": [
  {
   "cell_type": "markdown",
   "metadata": {},
   "source": [
    "# Hw03\n",
    "# CSC 790\n",
    "Author: Rafail Islam"
   ]
  },
  {
   "cell_type": "code",
   "execution_count": 1,
   "metadata": {},
   "outputs": [],
   "source": [
    "import tensorflow as tf\n",
    "import tensorflow.keras as ks\n",
    "import pandas as pd\n",
    "from tensorflow.keras.utils import to_categorical\n"
   ]
  },
  {
   "cell_type": "code",
   "execution_count": 2,
   "metadata": {},
   "outputs": [],
   "source": [
    "def load_data(problem_no):\n",
    "    ''' this function returns dataset for traing and testing\n",
    "    '''\n",
    "    \n",
    "    if(problem_no==1):\n",
    "        \n",
    "        trainDf = pd.read_csv('hw03_data/problem01/binary_data_train.csv')\n",
    "        testDf = pd.read_csv('hw03_data/problem01/binary_data_test.csv')\n",
    "    else:\n",
    "        trainDf = pd.read_csv('hw03_data/problem02/train.csv')\n",
    "        testDf = pd.read_csv('hw03_data/problem02/test.csv')\n",
    "    \n",
    "    # dataframe to numpy arrays\n",
    "    train = trainDf.to_numpy()\n",
    "    test = testDf.to_numpy()\n",
    "    \n",
    "    # split features and labels\n",
    "    X_train,y_train = train[:,:8],train[:,8:]\n",
    "    X_test, y_test = test[:,:8],test[:,8:]\n",
    "    \n",
    "    return X_train,y_train,X_test, y_test"
   ]
  },
  {
   "cell_type": "code",
   "execution_count": 3,
   "metadata": {},
   "outputs": [],
   "source": [
    "# TO USE MY gpu.\n",
    "# In case, if you get error, comment out these two line\n",
    "physical_devices = tf.config.list_physical_devices('GPU') \n",
    "tf.config.experimental.set_memory_growth(physical_devices[0], True)"
   ]
  },
  {
   "cell_type": "code",
   "execution_count": 4,
   "metadata": {},
   "outputs": [],
   "source": [
    "\n",
    "def build_model():\n",
    "    ''' this function return a compiled model\n",
    "    '''\n",
    "    # add layers\n",
    "    x = ks.layers.Input(shape=(8,))\n",
    "    hl = ks.layers.Dense(64,activation='relu')(x)\n",
    "    hl = ks.layers.Dense(32,activation='relu')(hl)\n",
    "    #hl = ks.layers.Dense(128,activation='relu')(hl)\n",
    "    output = ks.layers.Dense(1,activation='sigmoid')(hl)\n",
    "    \n",
    "    model = ks.Model(inputs=x, outputs=output)\n",
    "    \n",
    "    # compile model\n",
    "    model.compile(loss=tf.keras.losses.BinaryCrossentropy(),\n",
    "        optimizer=ks.optimizers.Adam(),\n",
    "        metrics=[\"accuracy\"])\n",
    "    \n",
    "    return model"
   ]
  },
  {
   "cell_type": "code",
   "execution_count": 5,
   "metadata": {},
   "outputs": [],
   "source": [
    "# def main():\n",
    "#     X_train,y_train,X_test, y_test = load_data()\n",
    "#     model = build_model()\n",
    "#     model.fit(X_train,y_train,epochs=100,batch_size=64)\n",
    "#     _, accuracy = model.evaluate(X_test,y_test)\n",
    "#     print(\"Test Accuracy: \",accuracy)\n",
    "# main()"
   ]
  },
  {
   "cell_type": "code",
   "execution_count": 6,
   "metadata": {},
   "outputs": [
    {
     "name": "stdout",
     "output_type": "stream",
     "text": [
      "8/8 [==============================] - 0s 884us/step - loss: 0.0226 - accuracy: 0.9961\n",
      "Test Accuracy:  0.9960784316062927\n"
     ]
    }
   ],
   "source": [
    "def main():\n",
    "    \n",
    "    # set problem_no = 1 for problem-01, 2 for problem-02\n",
    "    X_train,y_train,X_test, y_test = load_data(problem_no=1)\n",
    "    model = build_model()\n",
    "\n",
    "    # change verbose = 2 or 1 to show progress\n",
    "    \n",
    "    # for problem01, batch_size should be small {4,8,16}\n",
    "    model.fit(X_train,y_train,epochs=100,batch_size=4,verbose=0)\n",
    "\n",
    "    # determine accuracy with test data set\n",
    "    _, accuracy = model.evaluate(X_test,y_test)\n",
    "    print(\"Test Accuracy: \",accuracy)\n",
    "main()"
   ]
  },
  {
   "cell_type": "code",
   "execution_count": null,
   "metadata": {},
   "outputs": [],
   "source": [
    "\n"
   ]
  },
  {
   "cell_type": "code",
   "execution_count": null,
   "metadata": {},
   "outputs": [],
   "source": []
  }
 ],
 "metadata": {
  "kernelspec": {
   "display_name": "Python 3.7 (tensorflow)",
   "language": "python",
   "name": "tensorflow"
  },
  "language_info": {
   "codemirror_mode": {
    "name": "ipython",
    "version": 3
   },
   "file_extension": ".py",
   "mimetype": "text/x-python",
   "name": "python",
   "nbconvert_exporter": "python",
   "pygments_lexer": "ipython3",
   "version": "3.7.7"
  }
 },
 "nbformat": 4,
 "nbformat_minor": 4
}
