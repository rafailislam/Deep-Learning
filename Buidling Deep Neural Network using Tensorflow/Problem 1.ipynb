{
 "cells": [
  {
   "cell_type": "markdown",
   "metadata": {},
   "source": [
    "# Exam02\n",
    "# CSC 790 - Deep Learning\n",
    "# Author: Rafail Islam\n"
   ]
  },
  {
   "cell_type": "markdown",
   "metadata": {},
   "source": [
    "# Problem 1"
   ]
  },
  {
   "cell_type": "code",
   "execution_count": 1,
   "metadata": {},
   "outputs": [],
   "source": [
    "import tensorflow as tf\n",
    "import tensorflow.keras as ks\n",
    "import pandas as pd\n",
    "import matplotlib.pyplot as plt\n",
    "from tensorflow.keras.utils import to_categorical\n",
    "import time\n",
    "from sklearn import preprocessing"
   ]
  },
  {
   "cell_type": "code",
   "execution_count": 2,
   "metadata": {},
   "outputs": [],
   "source": [
    "# \n",
    "def load_data():\n",
    "    ''' this function returns dataset for traing and testing\n",
    "    '''\n",
    "    \n",
    "    trainDf = pd.read_csv('Exam02_data/Problem 1/p1_train.csv')\n",
    "    testDf = pd.read_csv('Exam02_data/Problem 1/p1_test.csv')\n",
    "\n",
    "    # dataframe to numpy arrays\n",
    "    train = trainDf.to_numpy()\n",
    "    test = testDf.to_numpy()\n",
    "   \n",
    "    # split features and labels\n",
    "    X_train,y_train = train[:,:-1].astype(\"float32\"),train[:,-1].astype(\"float32\")\n",
    "    X_test, y_test = test[:,:-1].astype(\"float32\"),test[:,-1].astype(\"float32\")\n",
    "    #print(X_train[0])\n",
    "    \n",
    "    # Normalizing data ( Mix-Max normalizing)\n",
    "    X_train = (X_train -(-1))/(1-(-1))\n",
    "    X_test = (X_test -(-1) )/(1-(-1))\n",
    "    #print(X_train[0])\n",
    "    #print(X_test[0])\n",
    "    return X_train,y_train,X_test, y_test"
   ]
  },
  {
   "cell_type": "code",
   "execution_count": 3,
   "metadata": {},
   "outputs": [],
   "source": [
    "def build_model(input_space):\n",
    "    ''' this function return a compiled model\n",
    "    '''\n",
    "    # add layers\n",
    "    x = ks.layers.Input(shape=(input_space,))\n",
    "    hl = ks.layers.Dense(10,activation='relu')(x)\n",
    "    #hl = ks.layers.Dense(10,activation='relu')(hl)\n",
    "    #hl = ks.layers.Dense(8,activation='relu')(hl)\n",
    "    #hl = ks.layers.Dense(408,activation='relu')(hl)\n",
    "    output = ks.layers.Dense(3)(hl)\n",
    "    \n",
    "    model = ks.Model(inputs=x, outputs=output)\n",
    "    model.compile(\n",
    "        optimizer = tf.keras.optimizers.Adam(),\n",
    "        loss = tf.keras.losses.SparseCategoricalCrossentropy(from_logits=True),\n",
    "        metrics=[tf.keras.metrics.SparseCategoricalAccuracy()] )\n",
    "    return model"
   ]
  },
  {
   "cell_type": "code",
   "execution_count": 4,
   "metadata": {},
   "outputs": [
    {
     "name": "stdout",
     "output_type": "stream",
     "text": [
      "Model: \"model\"\n",
      "_________________________________________________________________\n",
      "Layer (type)                 Output Shape              Param #   \n",
      "=================================================================\n",
      "input_1 (InputLayer)         [(None, 561)]             0         \n",
      "_________________________________________________________________\n",
      "dense (Dense)                (None, 10)                5620      \n",
      "_________________________________________________________________\n",
      "dense_1 (Dense)              (None, 3)                 33        \n",
      "=================================================================\n",
      "Total params: 5,653\n",
      "Trainable params: 5,653\n",
      "Non-trainable params: 0\n",
      "_________________________________________________________________\n"
     ]
    }
   ],
   "source": [
    "X_train,y_train,X_test, y_test = load_data()\n",
    "model = build_model(X_train.shape[1])\n",
    "model.summary()"
   ]
  },
  {
   "cell_type": "code",
   "execution_count": 15,
   "metadata": {},
   "outputs": [
    {
     "name": "stdout",
     "output_type": "stream",
     "text": [
      "Train on 2999 samples, validate on 599 samples\n",
      "Epoch 1/100\n",
      "2999/2999 - 0s - loss: 0.0442 - sparse_categorical_accuracy: 0.9860 - val_loss: 0.0014 - val_sparse_categorical_accuracy: 1.0000\n",
      "Epoch 2/100\n",
      "2999/2999 - 0s - loss: 0.0496 - sparse_categorical_accuracy: 0.9827 - val_loss: 0.0014 - val_sparse_categorical_accuracy: 1.0000\n",
      "Epoch 3/100\n",
      "2999/2999 - 0s - loss: 0.0467 - sparse_categorical_accuracy: 0.9823 - val_loss: 9.8704e-04 - val_sparse_categorical_accuracy: 1.0000\n",
      "Epoch 4/100\n",
      "2999/2999 - 0s - loss: 0.0448 - sparse_categorical_accuracy: 0.9843 - val_loss: 0.0015 - val_sparse_categorical_accuracy: 1.0000\n",
      "Epoch 5/100\n",
      "2999/2999 - 0s - loss: 0.0440 - sparse_categorical_accuracy: 0.9853 - val_loss: 0.0016 - val_sparse_categorical_accuracy: 1.0000\n",
      "Epoch 6/100\n",
      "2999/2999 - 0s - loss: 0.0449 - sparse_categorical_accuracy: 0.9870 - val_loss: 0.0011 - val_sparse_categorical_accuracy: 1.0000\n",
      "Epoch 7/100\n",
      "2999/2999 - 0s - loss: 0.0520 - sparse_categorical_accuracy: 0.9807 - val_loss: 0.0011 - val_sparse_categorical_accuracy: 1.0000\n",
      "Epoch 8/100\n",
      "2999/2999 - 0s - loss: 0.0457 - sparse_categorical_accuracy: 0.9850 - val_loss: 0.0014 - val_sparse_categorical_accuracy: 1.0000\n",
      "Epoch 9/100\n",
      "2999/2999 - 0s - loss: 0.0450 - sparse_categorical_accuracy: 0.9833 - val_loss: 0.0014 - val_sparse_categorical_accuracy: 1.0000\n",
      "Epoch 10/100\n",
      "2999/2999 - 0s - loss: 0.0434 - sparse_categorical_accuracy: 0.9853 - val_loss: 8.9482e-04 - val_sparse_categorical_accuracy: 1.0000\n",
      "Epoch 11/100\n",
      "2999/2999 - 0s - loss: 0.0424 - sparse_categorical_accuracy: 0.9840 - val_loss: 0.0010 - val_sparse_categorical_accuracy: 1.0000\n",
      "Epoch 12/100\n",
      "2999/2999 - 0s - loss: 0.0415 - sparse_categorical_accuracy: 0.9867 - val_loss: 0.0010 - val_sparse_categorical_accuracy: 1.0000\n",
      "Epoch 13/100\n",
      "2999/2999 - 0s - loss: 0.0404 - sparse_categorical_accuracy: 0.9863 - val_loss: 9.2981e-04 - val_sparse_categorical_accuracy: 1.0000\n",
      "Epoch 14/100\n",
      "2999/2999 - 0s - loss: 0.0458 - sparse_categorical_accuracy: 0.9837 - val_loss: 8.4093e-04 - val_sparse_categorical_accuracy: 1.0000\n",
      "Epoch 15/100\n",
      "2999/2999 - 0s - loss: 0.0422 - sparse_categorical_accuracy: 0.9857 - val_loss: 0.0012 - val_sparse_categorical_accuracy: 1.0000\n",
      "Epoch 16/100\n",
      "2999/2999 - 0s - loss: 0.0424 - sparse_categorical_accuracy: 0.9870 - val_loss: 0.0016 - val_sparse_categorical_accuracy: 1.0000\n",
      "Epoch 17/100\n",
      "2999/2999 - 0s - loss: 0.0402 - sparse_categorical_accuracy: 0.9883 - val_loss: 0.0013 - val_sparse_categorical_accuracy: 1.0000\n",
      "Epoch 18/100\n",
      "2999/2999 - 0s - loss: 0.0401 - sparse_categorical_accuracy: 0.9877 - val_loss: 0.0012 - val_sparse_categorical_accuracy: 1.0000\n",
      "Epoch 19/100\n",
      "2999/2999 - 0s - loss: 0.0401 - sparse_categorical_accuracy: 0.9873 - val_loss: 0.0013 - val_sparse_categorical_accuracy: 1.0000\n",
      "Epoch 20/100\n",
      "2999/2999 - 0s - loss: 0.0454 - sparse_categorical_accuracy: 0.9837 - val_loss: 9.9667e-04 - val_sparse_categorical_accuracy: 1.0000\n",
      "Epoch 21/100\n",
      "2999/2999 - 0s - loss: 0.0440 - sparse_categorical_accuracy: 0.9837 - val_loss: 0.0011 - val_sparse_categorical_accuracy: 1.0000\n",
      "Epoch 22/100\n",
      "2999/2999 - 0s - loss: 0.0397 - sparse_categorical_accuracy: 0.9880 - val_loss: 9.7749e-04 - val_sparse_categorical_accuracy: 1.0000\n",
      "Epoch 23/100\n",
      "2999/2999 - 0s - loss: 0.0370 - sparse_categorical_accuracy: 0.9887 - val_loss: 0.0013 - val_sparse_categorical_accuracy: 1.0000\n",
      "Epoch 24/100\n",
      "2999/2999 - 0s - loss: 0.0399 - sparse_categorical_accuracy: 0.9857 - val_loss: 0.0012 - val_sparse_categorical_accuracy: 1.0000\n",
      "Epoch 25/100\n",
      "2999/2999 - 0s - loss: 0.0378 - sparse_categorical_accuracy: 0.9890 - val_loss: 9.9042e-04 - val_sparse_categorical_accuracy: 1.0000\n",
      "Epoch 26/100\n",
      "2999/2999 - 0s - loss: 0.0377 - sparse_categorical_accuracy: 0.9880 - val_loss: 0.0010 - val_sparse_categorical_accuracy: 1.0000\n",
      "Epoch 27/100\n",
      "2999/2999 - 0s - loss: 0.0386 - sparse_categorical_accuracy: 0.9877 - val_loss: 9.0204e-04 - val_sparse_categorical_accuracy: 1.0000\n",
      "Epoch 28/100\n",
      "2999/2999 - 0s - loss: 0.0373 - sparse_categorical_accuracy: 0.9880 - val_loss: 0.0012 - val_sparse_categorical_accuracy: 1.0000\n",
      "Epoch 29/100\n",
      "2999/2999 - 0s - loss: 0.0379 - sparse_categorical_accuracy: 0.9877 - val_loss: 0.0012 - val_sparse_categorical_accuracy: 1.0000\n",
      "Epoch 30/100\n",
      "2999/2999 - 0s - loss: 0.0390 - sparse_categorical_accuracy: 0.9880 - val_loss: 7.4581e-04 - val_sparse_categorical_accuracy: 1.0000\n",
      "Epoch 31/100\n",
      "2999/2999 - 0s - loss: 0.0399 - sparse_categorical_accuracy: 0.9870 - val_loss: 0.0012 - val_sparse_categorical_accuracy: 1.0000\n",
      "Epoch 32/100\n",
      "2999/2999 - 0s - loss: 0.0373 - sparse_categorical_accuracy: 0.9883 - val_loss: 6.5637e-04 - val_sparse_categorical_accuracy: 1.0000\n",
      "Epoch 33/100\n",
      "2999/2999 - 0s - loss: 0.0364 - sparse_categorical_accuracy: 0.9897 - val_loss: 0.0012 - val_sparse_categorical_accuracy: 1.0000\n",
      "Epoch 34/100\n",
      "2999/2999 - 0s - loss: 0.0344 - sparse_categorical_accuracy: 0.9900 - val_loss: 9.7964e-04 - val_sparse_categorical_accuracy: 1.0000\n",
      "Epoch 35/100\n",
      "2999/2999 - 0s - loss: 0.0370 - sparse_categorical_accuracy: 0.9877 - val_loss: 0.0011 - val_sparse_categorical_accuracy: 1.0000\n",
      "Epoch 36/100\n",
      "2999/2999 - 0s - loss: 0.0358 - sparse_categorical_accuracy: 0.9880 - val_loss: 7.1037e-04 - val_sparse_categorical_accuracy: 1.0000\n",
      "Epoch 37/100\n",
      "2999/2999 - 0s - loss: 0.0352 - sparse_categorical_accuracy: 0.9890 - val_loss: 7.6439e-04 - val_sparse_categorical_accuracy: 1.0000\n",
      "Epoch 38/100\n",
      "2999/2999 - 0s - loss: 0.0364 - sparse_categorical_accuracy: 0.9893 - val_loss: 7.6007e-04 - val_sparse_categorical_accuracy: 1.0000\n",
      "Epoch 39/100\n",
      "2999/2999 - 0s - loss: 0.0356 - sparse_categorical_accuracy: 0.9890 - val_loss: 8.7380e-04 - val_sparse_categorical_accuracy: 1.0000\n",
      "Epoch 40/100\n",
      "2999/2999 - 0s - loss: 0.0364 - sparse_categorical_accuracy: 0.9880 - val_loss: 5.7651e-04 - val_sparse_categorical_accuracy: 1.0000\n",
      "Epoch 41/100\n",
      "2999/2999 - 0s - loss: 0.0382 - sparse_categorical_accuracy: 0.9873 - val_loss: 7.3180e-04 - val_sparse_categorical_accuracy: 1.0000\n",
      "Epoch 42/100\n",
      "2999/2999 - 0s - loss: 0.0414 - sparse_categorical_accuracy: 0.9867 - val_loss: 7.6500e-04 - val_sparse_categorical_accuracy: 1.0000\n",
      "Epoch 43/100\n",
      "2999/2999 - 0s - loss: 0.0363 - sparse_categorical_accuracy: 0.9873 - val_loss: 7.9038e-04 - val_sparse_categorical_accuracy: 1.0000\n",
      "Epoch 44/100\n",
      "2999/2999 - 0s - loss: 0.0378 - sparse_categorical_accuracy: 0.9853 - val_loss: 5.6056e-04 - val_sparse_categorical_accuracy: 1.0000\n",
      "Epoch 45/100\n",
      "2999/2999 - 0s - loss: 0.0336 - sparse_categorical_accuracy: 0.9907 - val_loss: 7.5114e-04 - val_sparse_categorical_accuracy: 1.0000\n",
      "Epoch 46/100\n",
      "2999/2999 - 0s - loss: 0.0336 - sparse_categorical_accuracy: 0.9897 - val_loss: 7.5538e-04 - val_sparse_categorical_accuracy: 1.0000\n",
      "Epoch 47/100\n",
      "2999/2999 - 0s - loss: 0.0332 - sparse_categorical_accuracy: 0.9910 - val_loss: 6.1962e-04 - val_sparse_categorical_accuracy: 1.0000\n",
      "Epoch 48/100\n",
      "2999/2999 - 0s - loss: 0.0338 - sparse_categorical_accuracy: 0.9903 - val_loss: 8.0921e-04 - val_sparse_categorical_accuracy: 1.0000\n",
      "Epoch 49/100\n",
      "2999/2999 - 0s - loss: 0.0337 - sparse_categorical_accuracy: 0.9890 - val_loss: 0.0010 - val_sparse_categorical_accuracy: 1.0000\n",
      "Epoch 50/100\n",
      "2999/2999 - 0s - loss: 0.0318 - sparse_categorical_accuracy: 0.9893 - val_loss: 7.3417e-04 - val_sparse_categorical_accuracy: 1.0000\n",
      "Epoch 51/100\n",
      "2999/2999 - 0s - loss: 0.0357 - sparse_categorical_accuracy: 0.9887 - val_loss: 7.1798e-04 - val_sparse_categorical_accuracy: 1.0000\n",
      "Epoch 52/100\n",
      "2999/2999 - 0s - loss: 0.0327 - sparse_categorical_accuracy: 0.9903 - val_loss: 5.0044e-04 - val_sparse_categorical_accuracy: 1.0000\n",
      "Epoch 53/100\n",
      "2999/2999 - 0s - loss: 0.0331 - sparse_categorical_accuracy: 0.9887 - val_loss: 5.4979e-04 - val_sparse_categorical_accuracy: 1.0000\n",
      "Epoch 54/100\n",
      "2999/2999 - 0s - loss: 0.0385 - sparse_categorical_accuracy: 0.9860 - val_loss: 7.1418e-04 - val_sparse_categorical_accuracy: 1.0000\n",
      "Epoch 55/100\n",
      "2999/2999 - 0s - loss: 0.0337 - sparse_categorical_accuracy: 0.9887 - val_loss: 6.1639e-04 - val_sparse_categorical_accuracy: 1.0000\n",
      "Epoch 56/100\n",
      "2999/2999 - 0s - loss: 0.0342 - sparse_categorical_accuracy: 0.9893 - val_loss: 3.2119e-04 - val_sparse_categorical_accuracy: 1.0000\n",
      "Epoch 57/100\n",
      "2999/2999 - 0s - loss: 0.0319 - sparse_categorical_accuracy: 0.9913 - val_loss: 4.7898e-04 - val_sparse_categorical_accuracy: 1.0000\n"
     ]
    },
    {
     "name": "stdout",
     "output_type": "stream",
     "text": [
      "Epoch 58/100\n",
      "2999/2999 - 0s - loss: 0.0331 - sparse_categorical_accuracy: 0.9897 - val_loss: 6.5149e-04 - val_sparse_categorical_accuracy: 1.0000\n",
      "Epoch 59/100\n",
      "2999/2999 - 0s - loss: 0.0342 - sparse_categorical_accuracy: 0.9883 - val_loss: 7.5897e-04 - val_sparse_categorical_accuracy: 1.0000\n",
      "Epoch 60/100\n",
      "2999/2999 - 0s - loss: 0.0353 - sparse_categorical_accuracy: 0.9867 - val_loss: 4.2782e-04 - val_sparse_categorical_accuracy: 1.0000\n",
      "Epoch 61/100\n",
      "2999/2999 - 0s - loss: 0.0336 - sparse_categorical_accuracy: 0.9890 - val_loss: 3.6107e-04 - val_sparse_categorical_accuracy: 1.0000\n",
      "Epoch 62/100\n",
      "2999/2999 - 0s - loss: 0.0360 - sparse_categorical_accuracy: 0.9870 - val_loss: 3.6030e-04 - val_sparse_categorical_accuracy: 1.0000\n",
      "Epoch 63/100\n",
      "2999/2999 - 0s - loss: 0.0343 - sparse_categorical_accuracy: 0.9873 - val_loss: 4.8148e-04 - val_sparse_categorical_accuracy: 1.0000\n",
      "Epoch 64/100\n",
      "2999/2999 - 0s - loss: 0.0319 - sparse_categorical_accuracy: 0.9887 - val_loss: 4.7235e-04 - val_sparse_categorical_accuracy: 1.0000\n",
      "Epoch 65/100\n",
      "2999/2999 - 0s - loss: 0.0323 - sparse_categorical_accuracy: 0.9903 - val_loss: 3.7348e-04 - val_sparse_categorical_accuracy: 1.0000\n",
      "Epoch 66/100\n",
      "2999/2999 - 0s - loss: 0.0328 - sparse_categorical_accuracy: 0.9893 - val_loss: 5.1660e-04 - val_sparse_categorical_accuracy: 1.0000\n",
      "Epoch 67/100\n",
      "2999/2999 - 0s - loss: 0.0351 - sparse_categorical_accuracy: 0.9880 - val_loss: 5.6745e-04 - val_sparse_categorical_accuracy: 1.0000\n",
      "Epoch 68/100\n",
      "2999/2999 - 0s - loss: 0.0299 - sparse_categorical_accuracy: 0.9893 - val_loss: 4.0444e-04 - val_sparse_categorical_accuracy: 1.0000\n",
      "Epoch 69/100\n",
      "2999/2999 - 0s - loss: 0.0300 - sparse_categorical_accuracy: 0.9903 - val_loss: 5.3336e-04 - val_sparse_categorical_accuracy: 1.0000\n",
      "Epoch 70/100\n",
      "2999/2999 - 0s - loss: 0.0290 - sparse_categorical_accuracy: 0.9907 - val_loss: 5.3600e-04 - val_sparse_categorical_accuracy: 1.0000\n",
      "Epoch 71/100\n",
      "2999/2999 - 0s - loss: 0.0302 - sparse_categorical_accuracy: 0.9893 - val_loss: 6.4483e-04 - val_sparse_categorical_accuracy: 1.0000\n",
      "Epoch 72/100\n",
      "2999/2999 - 0s - loss: 0.0300 - sparse_categorical_accuracy: 0.9900 - val_loss: 3.3585e-04 - val_sparse_categorical_accuracy: 1.0000\n",
      "Epoch 73/100\n",
      "2999/2999 - 0s - loss: 0.0295 - sparse_categorical_accuracy: 0.9917 - val_loss: 4.8568e-04 - val_sparse_categorical_accuracy: 1.0000\n",
      "Epoch 74/100\n",
      "2999/2999 - 0s - loss: 0.0319 - sparse_categorical_accuracy: 0.9887 - val_loss: 4.3301e-04 - val_sparse_categorical_accuracy: 1.0000\n",
      "Epoch 75/100\n",
      "2999/2999 - 0s - loss: 0.0298 - sparse_categorical_accuracy: 0.9910 - val_loss: 7.2714e-04 - val_sparse_categorical_accuracy: 1.0000\n",
      "Epoch 76/100\n",
      "2999/2999 - 0s - loss: 0.0298 - sparse_categorical_accuracy: 0.9907 - val_loss: 6.7212e-04 - val_sparse_categorical_accuracy: 1.0000\n",
      "Epoch 77/100\n",
      "2999/2999 - 0s - loss: 0.0309 - sparse_categorical_accuracy: 0.9897 - val_loss: 3.7460e-04 - val_sparse_categorical_accuracy: 1.0000\n",
      "Epoch 78/100\n",
      "2999/2999 - 0s - loss: 0.0311 - sparse_categorical_accuracy: 0.9900 - val_loss: 4.4048e-04 - val_sparse_categorical_accuracy: 1.0000\n",
      "Epoch 79/100\n",
      "2999/2999 - 0s - loss: 0.0313 - sparse_categorical_accuracy: 0.9880 - val_loss: 5.8584e-04 - val_sparse_categorical_accuracy: 1.0000\n",
      "Epoch 80/100\n",
      "2999/2999 - 0s - loss: 0.0329 - sparse_categorical_accuracy: 0.9880 - val_loss: 4.2597e-04 - val_sparse_categorical_accuracy: 1.0000\n",
      "Epoch 81/100\n",
      "2999/2999 - 0s - loss: 0.0315 - sparse_categorical_accuracy: 0.9870 - val_loss: 5.9683e-04 - val_sparse_categorical_accuracy: 1.0000\n",
      "Epoch 82/100\n",
      "2999/2999 - 0s - loss: 0.0287 - sparse_categorical_accuracy: 0.9917 - val_loss: 5.1380e-04 - val_sparse_categorical_accuracy: 1.0000\n",
      "Epoch 83/100\n",
      "2999/2999 - 0s - loss: 0.0299 - sparse_categorical_accuracy: 0.9903 - val_loss: 3.4894e-04 - val_sparse_categorical_accuracy: 1.0000\n",
      "Epoch 84/100\n",
      "2999/2999 - 0s - loss: 0.0326 - sparse_categorical_accuracy: 0.9900 - val_loss: 6.6749e-04 - val_sparse_categorical_accuracy: 1.0000\n",
      "Epoch 85/100\n",
      "2999/2999 - 0s - loss: 0.0281 - sparse_categorical_accuracy: 0.9920 - val_loss: 4.5681e-04 - val_sparse_categorical_accuracy: 1.0000\n",
      "Epoch 86/100\n",
      "2999/2999 - 0s - loss: 0.0322 - sparse_categorical_accuracy: 0.9863 - val_loss: 3.3804e-04 - val_sparse_categorical_accuracy: 1.0000\n",
      "Epoch 87/100\n",
      "2999/2999 - 0s - loss: 0.0261 - sparse_categorical_accuracy: 0.9927 - val_loss: 3.8403e-04 - val_sparse_categorical_accuracy: 1.0000\n",
      "Epoch 88/100\n",
      "2999/2999 - 0s - loss: 0.0279 - sparse_categorical_accuracy: 0.9930 - val_loss: 6.3343e-04 - val_sparse_categorical_accuracy: 1.0000\n",
      "Epoch 89/100\n",
      "2999/2999 - 0s - loss: 0.0281 - sparse_categorical_accuracy: 0.9920 - val_loss: 5.1365e-04 - val_sparse_categorical_accuracy: 1.0000\n",
      "Epoch 90/100\n",
      "2999/2999 - 0s - loss: 0.0296 - sparse_categorical_accuracy: 0.9887 - val_loss: 5.2913e-04 - val_sparse_categorical_accuracy: 1.0000\n",
      "Epoch 91/100\n",
      "2999/2999 - 0s - loss: 0.0281 - sparse_categorical_accuracy: 0.9900 - val_loss: 5.1984e-04 - val_sparse_categorical_accuracy: 1.0000\n",
      "Epoch 92/100\n",
      "2999/2999 - 0s - loss: 0.0290 - sparse_categorical_accuracy: 0.9887 - val_loss: 3.1998e-04 - val_sparse_categorical_accuracy: 1.0000\n",
      "Epoch 93/100\n",
      "2999/2999 - 0s - loss: 0.0304 - sparse_categorical_accuracy: 0.9890 - val_loss: 5.4789e-04 - val_sparse_categorical_accuracy: 1.0000\n",
      "Epoch 94/100\n",
      "2999/2999 - 0s - loss: 0.0268 - sparse_categorical_accuracy: 0.9917 - val_loss: 3.0233e-04 - val_sparse_categorical_accuracy: 1.0000\n",
      "Epoch 95/100\n",
      "2999/2999 - 0s - loss: 0.0280 - sparse_categorical_accuracy: 0.9910 - val_loss: 2.9297e-04 - val_sparse_categorical_accuracy: 1.0000\n",
      "Epoch 96/100\n",
      "2999/2999 - 0s - loss: 0.0257 - sparse_categorical_accuracy: 0.9923 - val_loss: 2.7979e-04 - val_sparse_categorical_accuracy: 1.0000\n",
      "Epoch 97/100\n",
      "2999/2999 - 0s - loss: 0.0264 - sparse_categorical_accuracy: 0.9937 - val_loss: 4.0878e-04 - val_sparse_categorical_accuracy: 1.0000\n",
      "Epoch 98/100\n",
      "2999/2999 - 0s - loss: 0.0267 - sparse_categorical_accuracy: 0.9920 - val_loss: 2.7312e-04 - val_sparse_categorical_accuracy: 1.0000\n",
      "Epoch 99/100\n",
      "2999/2999 - 0s - loss: 0.0305 - sparse_categorical_accuracy: 0.9893 - val_loss: 7.6124e-04 - val_sparse_categorical_accuracy: 1.0000\n",
      "Epoch 100/100\n",
      "2999/2999 - 0s - loss: 0.0286 - sparse_categorical_accuracy: 0.9930 - val_loss: 2.9272e-04 - val_sparse_categorical_accuracy: 1.0000\n"
     ]
    }
   ],
   "source": [
    "\n",
    "\n",
    "# 20% validation data\n",
    "vlen = int(len(X_train)*0.2) \n",
    "x_val = X_train[-vlen:]\n",
    "y_val = y_train[-vlen:]\n",
    "\n",
    "history = model.fit(\n",
    "    X_train,\n",
    "    y_train,\n",
    "    batch_size = 32,\n",
    "    epochs = 100,\n",
    "    validation_data=(x_val, y_val),\n",
    "    verbose = 2\n",
    "    )"
   ]
  },
  {
   "cell_type": "code",
   "execution_count": 16,
   "metadata": {},
   "outputs": [
    {
     "name": "stdout",
     "output_type": "stream",
     "text": [
      "dict_keys(['loss', 'sparse_categorical_accuracy', 'val_loss', 'val_sparse_categorical_accuracy'])\n"
     ]
    },
    {
     "data": {
      "image/png": "[encoded data removed]",
      "text/plain": [
       "<Figure size 432x288 with 1 Axes>"
      ]
     },
     "metadata": {
      "needs_background": "light"
     },
     "output_type": "display_data"
    }
   ],
   "source": [
    "print(history.history.keys())\n",
    "plt.plot(history.history['sparse_categorical_accuracy'])\n",
    "plt.xlabel(\"Epoch\")\n",
    "plt.ylabel(\"Epoch\")\n",
    "plt.title(\"Epochs vs Accuracy\")\n",
    "plt.grid()"
   ]
  },
  {
   "cell_type": "code",
   "execution_count": 17,
   "metadata": {},
   "outputs": [
    {
     "name": "stdout",
     "output_type": "stream",
     "text": [
      "\n",
      "Test accuracy: 95.67%\n"
     ]
    }
   ],
   "source": [
    "results = model.evaluate(X_test,y_test,verbose =0)\n",
    "print(\"\\nTest accuracy: %.2f%%\" %(results[1]*100))"
   ]
  },
  {
   "cell_type": "markdown",
   "metadata": {},
   "source": [
    "# Here, we load the previously saved model."
   ]
  },
  {
   "cell_type": "code",
   "execution_count": 18,
   "metadata": {},
   "outputs": [
    {
     "name": "stdout",
     "output_type": "stream",
     "text": [
      "WARNING:tensorflow:From C:\\Users\\Rit1115\\Miniconda3\\envs\\tensorflow\\lib\\site-packages\\tensorflow_core\\python\\ops\\resource_variable_ops.py:1781: calling BaseResourceVariable.__init__ (from tensorflow.python.ops.resource_variable_ops) with constraint is deprecated and will be removed in a future version.\n",
      "Instructions for updating:\n",
      "If using Keras pass *_constraint arguments to layers.\n",
      "INFO:tensorflow:Assets written to: my_model_1hidden_10\\assets\n"
     ]
    }
   ],
   "source": [
    "# Save the model\n",
    "model.save('my_model_1hidden_10') "
   ]
  },
  {
   "cell_type": "code",
   "execution_count": 19,
   "metadata": {},
   "outputs": [],
   "source": [
    "# Load the model \n",
    "new_model = tf.keras.models.load_model('my_model_1hidden_10')"
   ]
  },
  {
   "cell_type": "code",
   "execution_count": 20,
   "metadata": {},
   "outputs": [
    {
     "name": "stdout",
     "output_type": "stream",
     "text": [
      "Model: \"model\"\n",
      "_________________________________________________________________\n",
      "Layer (type)                 Output Shape              Param #   \n",
      "=================================================================\n"
     ]
    },
    {
     "ename": "ValueError",
     "evalue": "You tried to call `count_params` on input_1, but the layer isn't built. You can build it manually via: `input_1.build(batch_input_shape)`.",
     "output_type": "error",
     "traceback": [
      "\u001b[1;31m---------------------------------------------------------------------------\u001b[0m",
      "\u001b[1;31mValueError\u001b[0m                                Traceback (most recent call last)",
      "\u001b[1;32m<ipython-input-20-60181c3a7fd2>\u001b[0m in \u001b[0;36m<module>\u001b[1;34m\u001b[0m\n\u001b[1;32m----> 1\u001b[1;33m \u001b[0mnew_model\u001b[0m\u001b[1;33m.\u001b[0m\u001b[0msummary\u001b[0m\u001b[1;33m(\u001b[0m\u001b[1;33m)\u001b[0m\u001b[1;33m\u001b[0m\u001b[1;33m\u001b[0m\u001b[0m\n\u001b[0m",
      "\u001b[1;32m~\\Miniconda3\\envs\\tensorflow\\lib\\site-packages\\tensorflow_core\\python\\keras\\engine\\network.py\u001b[0m in \u001b[0;36msummary\u001b[1;34m(self, line_length, positions, print_fn)\u001b[0m\n\u001b[0;32m   1263\u001b[0m                               \u001b[0mline_length\u001b[0m\u001b[1;33m=\u001b[0m\u001b[0mline_length\u001b[0m\u001b[1;33m,\u001b[0m\u001b[1;33m\u001b[0m\u001b[1;33m\u001b[0m\u001b[0m\n\u001b[0;32m   1264\u001b[0m                               \u001b[0mpositions\u001b[0m\u001b[1;33m=\u001b[0m\u001b[0mpositions\u001b[0m\u001b[1;33m,\u001b[0m\u001b[1;33m\u001b[0m\u001b[1;33m\u001b[0m\u001b[0m\n\u001b[1;32m-> 1265\u001b[1;33m                               print_fn=print_fn)\n\u001b[0m\u001b[0;32m   1266\u001b[0m \u001b[1;33m\u001b[0m\u001b[0m\n\u001b[0;32m   1267\u001b[0m   \u001b[1;32mdef\u001b[0m \u001b[0m_validate_graph_inputs_and_outputs\u001b[0m\u001b[1;33m(\u001b[0m\u001b[0mself\u001b[0m\u001b[1;33m)\u001b[0m\u001b[1;33m:\u001b[0m\u001b[1;33m\u001b[0m\u001b[1;33m\u001b[0m\u001b[0m\n",
      "\u001b[1;32m~\\Miniconda3\\envs\\tensorflow\\lib\\site-packages\\tensorflow_core\\python\\keras\\utils\\layer_utils.py\u001b[0m in \u001b[0;36mprint_summary\u001b[1;34m(model, line_length, positions, print_fn)\u001b[0m\n\u001b[0;32m    224\u001b[0m   \u001b[1;32mfor\u001b[0m \u001b[0mi\u001b[0m \u001b[1;32min\u001b[0m \u001b[0mrange\u001b[0m\u001b[1;33m(\u001b[0m\u001b[0mlen\u001b[0m\u001b[1;33m(\u001b[0m\u001b[0mlayers\u001b[0m\u001b[1;33m)\u001b[0m\u001b[1;33m)\u001b[0m\u001b[1;33m:\u001b[0m\u001b[1;33m\u001b[0m\u001b[1;33m\u001b[0m\u001b[0m\n\u001b[0;32m    225\u001b[0m     \u001b[1;32mif\u001b[0m \u001b[0msequential_like\u001b[0m\u001b[1;33m:\u001b[0m\u001b[1;33m\u001b[0m\u001b[1;33m\u001b[0m\u001b[0m\n\u001b[1;32m--> 226\u001b[1;33m       \u001b[0mprint_layer_summary\u001b[0m\u001b[1;33m(\u001b[0m\u001b[0mlayers\u001b[0m\u001b[1;33m[\u001b[0m\u001b[0mi\u001b[0m\u001b[1;33m]\u001b[0m\u001b[1;33m)\u001b[0m\u001b[1;33m\u001b[0m\u001b[1;33m\u001b[0m\u001b[0m\n\u001b[0m\u001b[0;32m    227\u001b[0m     \u001b[1;32melse\u001b[0m\u001b[1;33m:\u001b[0m\u001b[1;33m\u001b[0m\u001b[1;33m\u001b[0m\u001b[0m\n\u001b[0;32m    228\u001b[0m       \u001b[0mprint_layer_summary_with_connections\u001b[0m\u001b[1;33m(\u001b[0m\u001b[0mlayers\u001b[0m\u001b[1;33m[\u001b[0m\u001b[0mi\u001b[0m\u001b[1;33m]\u001b[0m\u001b[1;33m)\u001b[0m\u001b[1;33m\u001b[0m\u001b[1;33m\u001b[0m\u001b[0m\n",
      "\u001b[1;32m~\\Miniconda3\\envs\\tensorflow\\lib\\site-packages\\tensorflow_core\\python\\keras\\utils\\layer_utils.py\u001b[0m in \u001b[0;36mprint_layer_summary\u001b[1;34m(layer)\u001b[0m\n\u001b[0;32m    182\u001b[0m     \u001b[0mname\u001b[0m \u001b[1;33m=\u001b[0m \u001b[0mlayer\u001b[0m\u001b[1;33m.\u001b[0m\u001b[0mname\u001b[0m\u001b[1;33m\u001b[0m\u001b[1;33m\u001b[0m\u001b[0m\n\u001b[0;32m    183\u001b[0m     \u001b[0mcls_name\u001b[0m \u001b[1;33m=\u001b[0m \u001b[0mlayer\u001b[0m\u001b[1;33m.\u001b[0m\u001b[0m__class__\u001b[0m\u001b[1;33m.\u001b[0m\u001b[0m__name__\u001b[0m\u001b[1;33m\u001b[0m\u001b[1;33m\u001b[0m\u001b[0m\n\u001b[1;32m--> 184\u001b[1;33m     \u001b[0mfields\u001b[0m \u001b[1;33m=\u001b[0m \u001b[1;33m[\u001b[0m\u001b[0mname\u001b[0m \u001b[1;33m+\u001b[0m \u001b[1;34m' ('\u001b[0m \u001b[1;33m+\u001b[0m \u001b[0mcls_name\u001b[0m \u001b[1;33m+\u001b[0m \u001b[1;34m')'\u001b[0m\u001b[1;33m,\u001b[0m \u001b[0moutput_shape\u001b[0m\u001b[1;33m,\u001b[0m \u001b[0mlayer\u001b[0m\u001b[1;33m.\u001b[0m\u001b[0mcount_params\u001b[0m\u001b[1;33m(\u001b[0m\u001b[1;33m)\u001b[0m\u001b[1;33m]\u001b[0m\u001b[1;33m\u001b[0m\u001b[1;33m\u001b[0m\u001b[0m\n\u001b[0m\u001b[0;32m    185\u001b[0m     \u001b[0mprint_row\u001b[0m\u001b[1;33m(\u001b[0m\u001b[0mfields\u001b[0m\u001b[1;33m,\u001b[0m \u001b[0mpositions\u001b[0m\u001b[1;33m)\u001b[0m\u001b[1;33m\u001b[0m\u001b[1;33m\u001b[0m\u001b[0m\n\u001b[0;32m    186\u001b[0m \u001b[1;33m\u001b[0m\u001b[0m\n",
      "\u001b[1;32m~\\Miniconda3\\envs\\tensorflow\\lib\\site-packages\\tensorflow_core\\python\\keras\\engine\\base_layer.py\u001b[0m in \u001b[0;36mcount_params\u001b[1;34m(self)\u001b[0m\n\u001b[0;32m   1627\u001b[0m                          \u001b[1;34m', but the layer isn\\'t built. '\u001b[0m\u001b[1;33m\u001b[0m\u001b[1;33m\u001b[0m\u001b[0m\n\u001b[0;32m   1628\u001b[0m                          \u001b[1;34m'You can build it manually via: `'\u001b[0m \u001b[1;33m+\u001b[0m \u001b[0mself\u001b[0m\u001b[1;33m.\u001b[0m\u001b[0mname\u001b[0m \u001b[1;33m+\u001b[0m\u001b[1;33m\u001b[0m\u001b[1;33m\u001b[0m\u001b[0m\n\u001b[1;32m-> 1629\u001b[1;33m                          '.build(batch_input_shape)`.')\n\u001b[0m\u001b[0;32m   1630\u001b[0m     \u001b[1;32mreturn\u001b[0m \u001b[0mint\u001b[0m\u001b[1;33m(\u001b[0m\u001b[0msum\u001b[0m\u001b[1;33m(\u001b[0m\u001b[0mnp\u001b[0m\u001b[1;33m.\u001b[0m\u001b[0mprod\u001b[0m\u001b[1;33m(\u001b[0m\u001b[0mw\u001b[0m\u001b[1;33m.\u001b[0m\u001b[0mshape\u001b[0m\u001b[1;33m.\u001b[0m\u001b[0mas_list\u001b[0m\u001b[1;33m(\u001b[0m\u001b[1;33m)\u001b[0m\u001b[1;33m)\u001b[0m \u001b[1;32mfor\u001b[0m \u001b[0mw\u001b[0m \u001b[1;32min\u001b[0m \u001b[0mself\u001b[0m\u001b[1;33m.\u001b[0m\u001b[0mweights\u001b[0m\u001b[1;33m)\u001b[0m\u001b[1;33m)\u001b[0m\u001b[1;33m\u001b[0m\u001b[1;33m\u001b[0m\u001b[0m\n\u001b[0;32m   1631\u001b[0m \u001b[1;33m\u001b[0m\u001b[0m\n",
      "\u001b[1;31mValueError\u001b[0m: You tried to call `count_params` on input_1, but the layer isn't built. You can build it manually via: `input_1.build(batch_input_shape)`."
     ]
    }
   ],
   "source": [
    "new_model.summary()"
   ]
  },
  {
   "cell_type": "code",
   "execution_count": 21,
   "metadata": {},
   "outputs": [
    {
     "name": "stdout",
     "output_type": "stream",
     "text": [
      "1063/1 - 0s - loss: 0.0759 - sparse_categorical_accuracy: 0.9567\n",
      "Restored model, accuracy: 95.67%\n"
     ]
    }
   ],
   "source": [
    "# Evaluate the restored model\n",
    "loss, acc = new_model.evaluate(X_test,  y_test, verbose=2)\n",
    "print('Restored model, accuracy: {:5.2f}%'.format(100*acc))"
   ]
  },
  {
   "cell_type": "markdown",
   "metadata": {},
   "source": [
    "# Problem 2"
   ]
  },
  {
   "cell_type": "code",
   "execution_count": null,
   "metadata": {},
   "outputs": [],
   "source": [
    "trainDf = pd.read_csv('Exam02_data/Problem2/p2_train.csv')\n",
    "testDf = pd.read_csv('Exam02_data/Problem2/p2_test.csv')"
   ]
  },
  {
   "cell_type": "code",
   "execution_count": null,
   "metadata": {},
   "outputs": [],
   "source": [
    "def load_data2():\n",
    "    \n",
    "    trainDf = pd.read_csv('Exam02_data/Problem2/p2_train.csv')\n",
    "    testDf = pd.read_csv('Exam02_data/Problem2/p2_test.csv')\n",
    "    # dataframe to numpy arrays\n",
    "    train = trainDf.to_numpy().astype(\"float32\")\n",
    "    test = testDf.to_numpy().astype(\"float32\")\n",
    "   \n",
    "    # split features and labels\n",
    "    X_train,y_train = train[:,:-1],train[:,-1]\n",
    "    X_test, y_test = test[:,:-1],test[:,-1]\n",
    "    \n",
    "    # Normalizing data ( Mix-Max normalizing)\n",
    "    min_max_scaler = preprocessing.MinMaxScaler()\n",
    "    X_train_minmax = min_max_scaler.fit_transform(X_train)\n",
    "    X_test_minmax = min_max_scaler.transform(X_test)\n",
    "    #print(X_train[0])\n",
    "    #print(X_test[0])\n",
    "    return X_train_minmax, y_train, X_test_minmax, y_test\n",
    "x, _, _,_=load_data2()\n"
   ]
  },
  {
   "cell_type": "code",
   "execution_count": null,
   "metadata": {},
   "outputs": [],
   "source": [
    "def build_model2(input_space):\n",
    "    ''' this function return a compiled model\n",
    "    '''\n",
    "    # add layers\n",
    "    x = ks.layers.Input(shape=(input_space,))\n",
    "    hl = ks.layers.Dense(32,activation='relu')(x)\n",
    "    hl = ks.layers.Dense(64,activation='relu')(hl)\n",
    "    #hl = ks.layers.Dense(8,activation='relu')(hl)\n",
    "    #hl = ks.layers.Dense(408,activation='relu')(hl)\n",
    "    output = ks.layers.Dense(2)(hl)\n",
    "    \n",
    "    model = ks.Model(inputs=x, outputs=output)\n",
    "    model.compile(\n",
    "        optimizer = tf.keras.optimizers.Adam(),\n",
    "        loss = tf.keras.losses.SparseCategoricalCrossentropy(from_logits=True),\n",
    "        metrics=[tf.keras.metrics.SparseCategoricalAccuracy()] )\n",
    "    return model"
   ]
  },
  {
   "cell_type": "code",
   "execution_count": null,
   "metadata": {},
   "outputs": [],
   "source": [
    "def build_model3(input_space):\n",
    "    ''' this function return a compiled model\n",
    "    '''\n",
    "    # add layers\n",
    "    x = ks.layers.Input(shape=(input_space,))\n",
    "    hl = ks.layers.Dense(128,activation='relu')(x)\n",
    "    hl = ks.layers.Dense(256,activation='relu')(hl)\n",
    "    #hl = ks.layers.Dense(128,activation='relu')(hl)\n",
    "    #hl = ks.layers.Dense(408,activation='relu')(hl)\n",
    "    output = ks.layers.Dense(1, activation='sigmoid')(hl)\n",
    "    \n",
    "    model = ks.Model(inputs=x, outputs=output)\n",
    "    model.compile(\n",
    "        optimizer = tf.keras.optimizers.Adam(),\n",
    "        loss = tf.keras.losses.BinaryCrossentropy(),\n",
    "        metrics=['accuracy'] )\n",
    "    return model"
   ]
  },
  {
   "cell_type": "code",
   "execution_count": null,
   "metadata": {},
   "outputs": [],
   "source": [
    "X_train,y_train,X_test, y_test = load_data2()\n",
    "model2 = build_model3(X_train.shape[1])\n",
    "model2.summary()"
   ]
  },
  {
   "cell_type": "code",
   "execution_count": null,
   "metadata": {},
   "outputs": [],
   "source": [
    "# 20% validation data\n",
    "vlen = int(len(X_train)*0.2) \n",
    "x_val = X_train[-vlen:]\n",
    "y_val = y_train[-vlen:]\n",
    "\n",
    "history1 = model2.fit(\n",
    "    X_train,\n",
    "    y_train,\n",
    "    batch_size = 128,\n",
    "    epochs = 100,\n",
    "    validation_data=(x_val, y_val),\n",
    "    verbose = 2\n",
    "    )"
   ]
  },
  {
   "cell_type": "code",
   "execution_count": null,
   "metadata": {},
   "outputs": [],
   "source": [
    "print(history1.history.keys())\n",
    "plt.plot(history1.history['accuracy'])\n",
    "plt.xlabel(\"Epoch\")\n",
    "plt.ylabel(\"Accuracy\")\n",
    "plt.title(\"Epochs vs Accuracy\")\n",
    "plt.grid()\n"
   ]
  },
  {
   "cell_type": "code",
   "execution_count": null,
   "metadata": {},
   "outputs": [],
   "source": [
    "results = model2.evaluate(X_test,y_test)\n",
    "print(\"\\nTest accuracy: %.2f%%\" %(results[1]*100))"
   ]
  },
  {
   "cell_type": "code",
   "execution_count": null,
   "metadata": {},
   "outputs": [],
   "source": []
  },
  {
   "cell_type": "code",
   "execution_count": null,
   "metadata": {},
   "outputs": [],
   "source": [
    "# Save the model\n",
    "model.save('my_model2_3hidden_128_256_128') "
   ]
  },
  {
   "cell_type": "code",
   "execution_count": null,
   "metadata": {},
   "outputs": [],
   "source": [
    "# Load the model \n",
    "new_model1 = tf.keras.models.load_model('my_model2_3hidden_128_256_128')"
   ]
  },
  {
   "cell_type": "code",
   "execution_count": null,
   "metadata": {},
   "outputs": [],
   "source": [
    "new_model1.summary()"
   ]
  },
  {
   "cell_type": "code",
   "execution_count": null,
   "metadata": {},
   "outputs": [],
   "source": [
    "# Evaluate the restored model\n",
    "loss, acc = new_model1.evaluate(X_test,  y_test, verbose=2)\n",
    "print('Restored model, accuracy: {:5.2f}%'.format(100*acc))"
   ]
  }
 ],
 "metadata": {
  "kernelspec": {
   "display_name": "Python 3",
   "language": "python",
   "name": "python3"
  },
  "language_info": {
   "codemirror_mode": {
    "name": "ipython",
    "version": 3
   },
   "file_extension": ".py",
   "mimetype": "text/x-python",
   "name": "python",
   "nbconvert_exporter": "python",
   "pygments_lexer": "ipython3",
   "version": "3.7.7"
  }
 },
 "nbformat": 4,
 "nbformat_minor": 4
}
